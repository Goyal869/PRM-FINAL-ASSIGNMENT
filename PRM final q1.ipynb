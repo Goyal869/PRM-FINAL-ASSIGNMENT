{
 "cells": [
  {
   "cell_type": "code",
   "execution_count": 2,
   "metadata": {},
   "outputs": [],
   "source": [
    "#Q2. You will be given a list. You have to print a list whose 1st element should be\n",
    "#  largest and 2nd should be the smallest then the 3rd should be 2nd largest and\n",
    "#  4th should be 2nd smallest and so on.\n",
    "#Input Format:\n",
    "#The first line will have space-separated elements of the list.\n",
    "#Output Format:Print the required list.\n",
    "#Sample Input 0:1 2 3 4 5 6\n",
    "#Sample Output 0:6 1 5 2 4 3"
   ]
  },
  {
   "cell_type": "code",
   "execution_count": null,
   "metadata": {},
   "outputs": [],
   "source": []
  },
  {
   "cell_type": "code",
   "execution_count": 27,
   "metadata": {},
   "outputs": [
    {
     "name": "stdout",
     "output_type": "stream",
     "text": [
      "List before arrangement [1, 2, 3, 4, 5, 6]\n",
      "Result after arrangement [6, 1, 5, 2, 4, 3]\n"
     ]
    }
   ],
   "source": [
    "l=[int(x) for x  in input(\"enter numbers\").split()]\n",
    "l=sorted(l)\n",
    "print(\"List before arrangement\",l)\n",
    "z=[]\n",
    "if len(l)==0 or len(l)==1:\n",
    "    print(\"REARRANGEMENT NOT POSSIBLE\")\n",
    "elif len(l)%2==0:\n",
    "    for i in range(len(l)):\n",
    "        z.append(max(l))\n",
    "        z.append(min(l))\n",
    "        l.remove(max(l))\n",
    "        l.remove(min(l))\n",
    "        if len(l)==0:\n",
    "            break\n",
    "    print(\"Result after arrangement\",z)\n",
    "elif len(l)%2!=0:\n",
    "    for i in range(len(l)):\n",
    "        z.append(max(l))\n",
    "        z.append(min(l))\n",
    "        l.remove(max(l))\n",
    "        l.remove(min(l))\n",
    "        if len(l)==1:\n",
    "            z.append(l[0])\n",
    "            l.remove(l[0])\n",
    "            break\n",
    "        else:\n",
    "            continue\n",
    "    print(\"Result after arrangement\",z)\n",
    "\n",
    "       \n",
    "\n",
    "\n",
    "        "
   ]
  },
  {
   "cell_type": "code",
   "execution_count": null,
   "metadata": {},
   "outputs": [],
   "source": []
  }
 ],
 "metadata": {
  "kernelspec": {
   "display_name": "Python 3.9.13 ('base')",
   "language": "python",
   "name": "python3"
  },
  "language_info": {
   "codemirror_mode": {
    "name": "ipython",
    "version": 3
   },
   "file_extension": ".py",
   "mimetype": "text/x-python",
   "name": "python",
   "nbconvert_exporter": "python",
   "pygments_lexer": "ipython3",
   "version": "3.9.13"
  },
  "orig_nbformat": 4,
  "vscode": {
   "interpreter": {
    "hash": "dc07d24e2f18896857f0b2a651fe84ba40ce7b297e58d8804a308c8039f752a6"
   }
  }
 },
 "nbformat": 4,
 "nbformat_minor": 2
}
