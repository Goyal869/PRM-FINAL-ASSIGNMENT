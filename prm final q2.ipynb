{
 "cells": [
  {
   "cell_type": "code",
   "execution_count": null,
   "metadata": {},
   "outputs": [],
   "source": [
    "#Find nth fibonacci number. If it starts with 0,1,1,2.....\n",
    "\n",
    "#Also, Print Incorrect Input if n is less than or equal to 0.\n",
    "#\"Input Format:\n",
    "#Call the function with n\n",
    "#Output Format:Print the nth fibonacci number\n",
    "#Sample Input 0:4\n",
    "#Sample Output 0:2\n",
    "#Sample Input 1: 0\n",
    "#Sample Output 1:Incorrect input"
   ]
  },
  {
   "cell_type": "code",
   "execution_count": 8,
   "metadata": {},
   "outputs": [
    {
     "name": "stdout",
     "output_type": "stream",
     "text": [
      "ENTER THE NUMBER 0\n",
      "result : incorrect input\n"
     ]
    }
   ],
   "source": [
    "def fibbonaci(n):\n",
    "    if n<=0:\n",
    "        return \"incorrect input\"\n",
    "    else:\n",
    "        l=[]\n",
    "        a=0\n",
    "        l.append(a)\n",
    "        b=1\n",
    "        l.append(b)\n",
    "        for i in range(n-1):\n",
    "            c=a+b\n",
    "            l.append(c)\n",
    "            a=b\n",
    "            b=c\n",
    "        return l[n-1]\n",
    "n=int(input(\"ENTER THE NUMBER \"))\n",
    "c=fibbonaci(n)\n",
    "print(\"result :\", c)\n",
    "\n",
    "\n"
   ]
  },
  {
   "cell_type": "code",
   "execution_count": null,
   "metadata": {},
   "outputs": [],
   "source": []
  },
  {
   "cell_type": "code",
   "execution_count": null,
   "metadata": {},
   "outputs": [],
   "source": []
  }
 ],
 "metadata": {
  "kernelspec": {
   "display_name": "Python 3 (ipykernel)",
   "language": "python",
   "name": "python3"
  },
  "language_info": {
   "codemirror_mode": {
    "name": "ipython",
    "version": 3
   },
   "file_extension": ".py",
   "mimetype": "text/x-python",
   "name": "python",
   "nbconvert_exporter": "python",
   "pygments_lexer": "ipython3",
   "version": "3.9.13"
  },
  "vscode": {
   "interpreter": {
    "hash": "dc07d24e2f18896857f0b2a651fe84ba40ce7b297e58d8804a308c8039f752a6"
   }
  }
 },
 "nbformat": 4,
 "nbformat_minor": 2
}
